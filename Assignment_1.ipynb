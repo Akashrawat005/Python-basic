{
  "nbformat": 4,
  "nbformat_minor": 0,
  "metadata": {
    "colab": {
      "provenance": []
    },
    "kernelspec": {
      "name": "python3",
      "display_name": "Python 3"
    },
    "language_info": {
      "name": "python"
    }
  },
  "cells": [
    {
      "cell_type": "code",
      "execution_count": null,
      "metadata": {
        "id": "C7tLcSwGh1q_"
      },
      "outputs": [],
      "source": []
    },
    {
      "cell_type": "markdown",
      "source": [],
      "metadata": {
        "id": "ZvRI4OHGh8Cb"
      }
    },
    {
      "cell_type": "markdown",
      "source": [
        "Question-1 What is python and why  is it popular ?\n",
        "answer- Python is a high level general purpose programming. It help us to create rules and instructions for a computer to follow . It is widely used in web development , software development , data science and machine learning . python is a language which is used to give set of special symbols and rules that you use to give instruction to a computer\n",
        "why it is popular ?\n",
        "widely used in industry\n",
        "\n",
        "*   widely used in industry\n",
        "*   simplicity\n",
        "*   lot of libraries\n",
        "*   huge active community\n",
        "*   versatility (web dev, ml , etc...)\n",
        "\n",
        "Question-2 What is an interpreter in Python?\n",
        "answer- A Python interpreter is a computer program that translate Python code into machine code , allowing the computer to understand and execute the code .\n",
        "Question-3 What are pre defined keywords in Python?\n",
        "answer- Pre-defined keywords is nothing but reserved word that have special meaning and keywords cannot be used as a variable .\n",
        "Question-4 Can keywords be used as variable names ?\n",
        "answer- No, it cant be used as variable name .\n",
        "Question-5 What is mutalbility in Python?\n",
        "answer- mutability is changing or extracting object's after its creation.\n",
        "Question-6 Why are lists mutable , but tuples are immutable ?\n",
        "answer- Lists are mutable because the content of the list can be chaned after it is created. Tuples are immutable because  the content of the tuple cannot be changed after it is created.\n",
        "Question-7 What is the differnce between \"==\" and \"is\" operations in Python?\n",
        "answer- \"==\" checks for data equality\n",
        "\"is\" checks for identity equality.\n",
        "Question- 8 What are the logical operators in Python?\n",
        "answer- and , or , not are the logical operators in Python.\n",
        "Question-9 What is type casting in Python?\n",
        "answer- The process of changing the data type of a value / object is called Type casting/Type conversion.\n",
        "Question-10 What is the difference between implicit and explicit type casting ?\n",
        "answer- Implicit typecasting is automatically performed by the Python. There is no risk of data loss.\n",
        "Explicit typecasting is done manually by the programmer.The data might get lost.\n",
        "Question-11 What is the purpose of conditional statements in Python?\n",
        "answer-Conditional statements in Python allow the program to make decisions based on certain conditions. They help control the flow of execution by running specific blocks of code depending on whether a condition is True or False.\n",
        "Question-12 How does the elif statement work ?\n",
        "answer-The elif (\"else if\") statement in Python allows you to check multiple conditions sequentially.\n",
        "How does it work?\n",
        "1. The program first checks the condition in the if statement.\n",
        "2. If the condition in the if statement is True, the corresponding block of code is executed, and the rest of the elif and else blocks are skipped.\n",
        "3. If the condition in the if statement is False, Python moves on to the next elif (if any).\n",
        "4. If none of the if or elif conditions are True, the code inside the else block is executed (if present).\n",
        "Question-13 What is the difference between for and while loops?\n",
        "answer-\n",
        "*  for loop: Best used when you know the number of iterations (e.g., iterating over a list or range).\n",
        "* while loop: Best used when the number of iterations is not known and depends on a condition being met.\n",
        "Question-14 Describe a scenario where  while loop is more suitable than a for loop.\n",
        "answer- A scenario where while loop is more suitable than a for  loop is to asks the user to enter a valid password. The program should keep asking the user for a new password until it meets certain conditions, such as being at least 8 characters long and containing a special character. Since the number of attempts depends on when the user enters a valid password.\n",
        "\n",
        "\n"
      ],
      "metadata": {
        "id": "N-q9iOmdimdp"
      }
    },
    {
      "cell_type": "markdown",
      "source": [],
      "metadata": {
        "id": "QCNfI_zDh6tG"
      }
    },
    {
      "cell_type": "markdown",
      "source": [
        "Question-1 Write a Python program to print \"Hello, World!?"
      ],
      "metadata": {
        "id": "jpUbPSMJOIXT"
      }
    },
    {
      "cell_type": "code",
      "source": [
        "print(\"Hello, World!\")"
      ],
      "metadata": {
        "colab": {
          "base_uri": "https://localhost:8080/"
        },
        "id": "vNO0JDAGNWvJ",
        "outputId": "889b6de2-2709-4b8f-f6a8-310407fefb10"
      },
      "execution_count": null,
      "outputs": [
        {
          "output_type": "stream",
          "name": "stdout",
          "text": [
            "Hello, World!\n"
          ]
        }
      ]
    },
    {
      "cell_type": "markdown",
      "source": [
        "Question-2 Write a Pyhton program that displays your name and age?"
      ],
      "metadata": {
        "id": "2cFRwmIsPXVX"
      }
    },
    {
      "cell_type": "code",
      "source": [
        "Name = input(\"Enter your name: \")\n",
        "Age = int(input(\"Enter your age: \"))\n"
      ],
      "metadata": {
        "colab": {
          "base_uri": "https://localhost:8080/"
        },
        "id": "Rkt_MKHbSNlu",
        "outputId": "922feb68-6323-401b-d492-929f21486b3e"
      },
      "execution_count": null,
      "outputs": [
        {
          "name": "stdout",
          "output_type": "stream",
          "text": [
            "Enter your name: Akash Rawat\n",
            "Enter your age: 20\n"
          ]
        }
      ]
    },
    {
      "cell_type": "markdown",
      "source": [
        "Question-3 Write code to print all the pre-defined keywords in Python using the keyword library?"
      ],
      "metadata": {
        "id": "UrujN0gpTjs4"
      }
    },
    {
      "cell_type": "code",
      "source": [
        "help(\"keywords\")"
      ],
      "metadata": {
        "colab": {
          "base_uri": "https://localhost:8080/"
        },
        "id": "P6-MtGUtTKHa",
        "outputId": "686c5988-0914-4737-fb2a-5098c8dcff94"
      },
      "execution_count": null,
      "outputs": [
        {
          "output_type": "stream",
          "name": "stdout",
          "text": [
            "\n",
            "Here is a list of the Python keywords.  Enter any keyword to get more help.\n",
            "\n",
            "False               class               from                or\n",
            "None                continue            global              pass\n",
            "True                def                 if                  raise\n",
            "and                 del                 import              return\n",
            "as                  elif                in                  try\n",
            "assert              else                is                  while\n",
            "async               except              lambda              with\n",
            "await               finally             nonlocal            yield\n",
            "break               for                 not                 \n",
            "\n"
          ]
        }
      ]
    },
    {
      "cell_type": "markdown",
      "source": [
        "Question-4 Write a program that checks if a given word is a Python keyword."
      ],
      "metadata": {
        "id": "W97TLn0UUH1a"
      }
    },
    {
      "cell_type": "code",
      "source": [
        "import keyword\n",
        "\n",
        "\n",
        "word = input(\"Enter a word to check if it's a Python keyword: \")\n",
        "\n",
        "if keyword.iskeyword(word):\n",
        "    print (word, \"is a Python keyword.\")\n",
        "else:\n",
        "    print (word,\"is not a Python keyword.\")\n"
      ],
      "metadata": {
        "colab": {
          "base_uri": "https://localhost:8080/"
        },
        "id": "Q2rq3cMUUCaf",
        "outputId": "7155c73b-4176-4f2a-b4fe-b93e4bc2aea1"
      },
      "execution_count": null,
      "outputs": [
        {
          "output_type": "stream",
          "name": "stdout",
          "text": [
            "Enter a word to check if it's a Python keyword: True\n",
            "True is a Python keyword.\n"
          ]
        }
      ]
    },
    {
      "cell_type": "markdown",
      "source": [
        "Question-5 Create a list and tuple in Python , and demontrate how attempting to change and element work differently for each."
      ],
      "metadata": {
        "id": "P06ZivXqWU8i"
      }
    },
    {
      "cell_type": "code",
      "source": [
        "# Creating a list\n",
        "my_list = [1, 2, 3, 4, 5]\n",
        "print(\"Original List:\", my_list)\n",
        "\n",
        "# Creating a tuple\n",
        "my_tuple = (1, 2, 3, 4, 5)\n",
        "print(\"Original Tuple:\", my_tuple)\n",
        "\n",
        "# Changing an element in the list\n",
        "my_list[2] = 100  # Changing the third element (index 2) to 99\n",
        "print(\"Modified List:\", my_list)\n",
        "\n",
        "# Attempting to change an element in the tuple\n",
        "try:\n",
        "    my_tuple[2] = 100  # This will raise an error\n",
        "except TypeError as e:\n",
        "    print(\"Error:\", e)\n",
        "\n"
      ],
      "metadata": {
        "id": "T17Yc6NSXf2z",
        "colab": {
          "base_uri": "https://localhost:8080/"
        },
        "outputId": "8b4b9f3a-a497-48ee-c21b-281485074864"
      },
      "execution_count": null,
      "outputs": [
        {
          "output_type": "stream",
          "name": "stdout",
          "text": [
            "Original List: [1, 2, 3, 4, 5]\n",
            "Original Tuple: (1, 2, 3, 4, 5)\n",
            "Modified List: [1, 2, 100, 4, 5]\n",
            "Error: 'tuple' object does not support item assignment\n"
          ]
        }
      ]
    },
    {
      "cell_type": "markdown",
      "source": [
        "Question-6 Write a function to demonstrate the behaviour of mutable and immutable arguements."
      ],
      "metadata": {
        "id": "Ebg4Q7b8Xs0a"
      }
    },
    {
      "cell_type": "code",
      "source": [
        "def demonstrate_mutable_immutable(mutable_obj, immutable_obj):\n",
        "    # Modifying the mutable object (list)\n",
        "    mutable_obj.append(\"new item\")\n",
        "    print(\"Inside function - Mutable Object:\", mutable_obj)\n",
        "\n",
        "    # Trying to modify the immutable object (string)\n",
        "    immutable_obj += \" changed\"\n",
        "    print(\"Inside function - Immutable Object:\", immutable_obj)\n",
        "\n",
        "\n",
        "# Main program\n",
        "# Mutable object: List\n",
        "my_list = [\"item1\", \"item2\"]\n",
        "\n",
        "# Immutable object: String\n",
        "my_string = \"original\"\n",
        "\n",
        "# Call the function\n",
        "print(\"Before function call - Mutable Object:\", my_list)\n",
        "print(\"Before function call - Immutable Object:\", my_string)\n",
        "\n",
        "demonstrate_mutable_immutable(my_list, my_string)\n",
        "\n",
        "# Check values after function call\n",
        "print(\"After function call - Mutable Object:\", my_list)\n",
        "print(\"After function call - Immutable Object:\", my_string)\n"
      ],
      "metadata": {
        "id": "dKZ291bXYEO_",
        "colab": {
          "base_uri": "https://localhost:8080/"
        },
        "outputId": "979ec5ea-626c-4bdb-c7d9-7bde6ddcdc4a"
      },
      "execution_count": 12,
      "outputs": [
        {
          "output_type": "stream",
          "name": "stdout",
          "text": [
            "Before function call - Mutable Object: ['item1', 'item2']\n",
            "Before function call - Immutable Object: original\n",
            "Inside function - Mutable Object: ['item1', 'item2', 'new item']\n",
            "Inside function - Immutable Object: original changed\n",
            "After function call - Mutable Object: ['item1', 'item2', 'new item']\n",
            "After function call - Immutable Object: original\n"
          ]
        }
      ]
    },
    {
      "cell_type": "markdown",
      "source": [
        "Question-7 Write a function to demonstrate the behaviour of mutable and immutable arguements."
      ],
      "metadata": {
        "id": "UxcNS6L2YFDP"
      }
    },
    {
      "cell_type": "code",
      "source": [
        "def demonstrate_mutable_immutable(mutable_obj, immutable_obj):\n",
        "    # Modifying the mutable object (list)\n",
        "    mutable_obj.append(\"new item\")\n",
        "    print(\"Inside function - Mutable Object:\", mutable_obj)\n",
        "\n",
        "    # Trying to modify the immutable object (string)\n",
        "    immutable_obj += \" changed\"\n",
        "    print(\"Inside function - Immutable Object:\", immutable_obj)\n",
        "\n",
        "\n",
        "# Main program\n",
        "# Mutable object: List\n",
        "my_list = [\"item1\", \"item2\"]\n",
        "\n",
        "# Immutable object: String\n",
        "my_string = \"original\"\n",
        "\n",
        "# Call the function\n",
        "print(\"Before function call - Mutable Object:\", my_list)\n",
        "print(\"Before function call - Immutable Object:\", my_string)\n",
        "\n",
        "demonstrate_mutable_immutable(my_list, my_string)\n",
        "\n",
        "# Check values after function call\n",
        "print(\"After function call - Mutable Object:\", my_list)\n",
        "print(\"After function call - Immutable Object:\", my_string)\n"
      ],
      "metadata": {
        "id": "Ol102SlBYjIv",
        "colab": {
          "base_uri": "https://localhost:8080/"
        },
        "outputId": "0cc766aa-4485-46a1-dd17-1b38260b1403"
      },
      "execution_count": 2,
      "outputs": [
        {
          "output_type": "stream",
          "name": "stdout",
          "text": [
            "Before function call - Mutable Object: ['item1', 'item2']\n",
            "Before function call - Immutable Object: original\n",
            "Inside function - Mutable Object: ['item1', 'item2', 'new item']\n",
            "Inside function - Immutable Object: original changed\n",
            "After function call - Mutable Object: ['item1', 'item2', 'new item']\n",
            "After function call - Immutable Object: original\n"
          ]
        }
      ]
    },
    {
      "cell_type": "markdown",
      "source": [
        "Question-8 Write a program to demonstrate the use of logical operator"
      ],
      "metadata": {
        "id": "oJ-37NWyYjpW"
      }
    },
    {
      "cell_type": "code",
      "source": [
        "# Program to demonstrate logical operators in Python\n",
        "\n",
        "# Input: User enters their age and citizenship status\n",
        "age = int(input(\"Enter your age: \"))\n",
        "is_citizen = input(\"Are you a citizen (yes/no)? \").strip().lower() == \"yes\"\n",
        "\n",
        "# Logical operator: and\n",
        "if age >= 18 and is_citizen:\n",
        "    print(\"You are eligible to vote.\")\n",
        "else:\n",
        "    print(\"You are not eligible to vote.\")\n",
        "\n",
        "# Logical operator: or\n",
        "if age < 18 or not is_citizen:\n",
        "    print(\"You cannot apply for a government job.\")\n",
        "else:\n",
        "    print(\"You are eligible to apply for a government job.\")\n",
        "\n",
        "# Logical operator: not\n",
        "if not is_citizen:\n",
        "    print(\"You need to be a citizen to enjoy full benefits.\")\n"
      ],
      "metadata": {
        "id": "Ppcthd5PY7-I",
        "colab": {
          "base_uri": "https://localhost:8080/"
        },
        "outputId": "dc1406d2-37b5-4b7a-f964-3673bf6f0cdd"
      },
      "execution_count": 3,
      "outputs": [
        {
          "output_type": "stream",
          "name": "stdout",
          "text": [
            "Enter your age: 20\n",
            "Are you a citizen (yes/no)? yes\n",
            "You are eligible to vote.\n",
            "You are eligible to apply for a government job.\n"
          ]
        }
      ]
    },
    {
      "cell_type": "markdown",
      "source": [
        "Question-9 Write a Python program to convert user input from string to integer , float, and boolean types."
      ],
      "metadata": {
        "id": "-13bbWTvY8kR"
      }
    },
    {
      "cell_type": "code",
      "source": [
        "# Input: Take user input as a string\n",
        "user_input = input(\"Enter a value: \")\n",
        "\n",
        "# Convert to Integer\n",
        "try:\n",
        "    int_value = int(user_input)\n",
        "    print(\"Integer value:\", int_value)\n",
        "except ValueError:\n",
        "    print(\"Cannot convert to integer.\")\n",
        "\n",
        "# Convert to Float\n",
        "try:\n",
        "    float_value = float(user_input)\n",
        "    print(\"Float value:\", float_value)\n",
        "except ValueError:\n",
        "    print(\"Cannot convert to float.\")\n",
        "\n",
        "# Convert to Boolean\n",
        "# Any non-empty string is True except \"0\", \"False\", \"false\", etc.\n",
        "bool_value = bool(user_input) and user_input.lower() not in [\"false\", \"0\"]\n",
        "print(\"Boolean value:\", bool_value)\n"
      ],
      "metadata": {
        "id": "2eh6mhNlZWjz",
        "colab": {
          "base_uri": "https://localhost:8080/"
        },
        "outputId": "bdf33629-85a3-46dc-ab2d-cadfbaf1ed90"
      },
      "execution_count": 11,
      "outputs": [
        {
          "output_type": "stream",
          "name": "stdout",
          "text": [
            "Enter a value: 5\n",
            "Integer value: 5\n",
            "Float value: 5.0\n",
            "Boolean value: True\n"
          ]
        }
      ]
    },
    {
      "cell_type": "markdown",
      "source": [
        "Question-10 Write a code to demonstrate type casting with list elements."
      ],
      "metadata": {
        "id": "AnI5Q-5BZXFd"
      }
    },
    {
      "cell_type": "code",
      "source": [
        "# List with mixed data types as strings\n",
        "original_list = [\"10\", \"20.5\", \"True\", \"False\", \"Hello\", \"0\"]\n",
        "\n",
        "# Lists to store converted values\n",
        "int_list = []\n",
        "float_list = []\n",
        "bool_list = []\n",
        "\n",
        "# Iterate through the original list\n",
        "for element in original_list:\n",
        "    # Convert to integer if possible\n",
        "    try:\n",
        "        int_value = int(float(element))  # Use float conversion first for numbers like \"20.5\"\n",
        "        int_list.append(int_value)\n",
        "    except ValueError:\n",
        "        int_list.append(None)  # Append None if conversion to int fails\n",
        "\n",
        "    # Convert to float if possible\n",
        "    try:\n",
        "        float_value = float(element)\n",
        "        float_list.append(float_value)\n",
        "    except ValueError:\n",
        "        float_list.append(None)  # Append None if conversion to float fails\n",
        "\n",
        "    # Convert to boolean\n",
        "    bool_value = element.lower() not in [\"false\", \"0\", \"\"]\n",
        "    bool_list.append(bool_value)\n",
        "\n",
        "# Display the results\n",
        "print(\"Original List:\", original_list)\n",
        "print(\"Converted to Integers:\", int_list)\n",
        "print(\"Converted to Floats:\", float_list)\n",
        "print(\"Converted to Booleans:\", bool_list)\n"
      ],
      "metadata": {
        "id": "m37oRqt4Zmva",
        "colab": {
          "base_uri": "https://localhost:8080/"
        },
        "outputId": "21d1f8fc-83e9-493a-9a64-79b22da20262"
      },
      "execution_count": 15,
      "outputs": [
        {
          "output_type": "stream",
          "name": "stdout",
          "text": [
            "Original List: ['10', '20.5', 'True', 'False', 'Hello', '0']\n",
            "Converted to Integers: [10, 20, None, None, None, 0]\n",
            "Converted to Floats: [10.0, 20.5, None, None, None, 0.0]\n",
            "Converted to Booleans: [True, True, True, False, True, False]\n"
          ]
        }
      ]
    },
    {
      "cell_type": "markdown",
      "source": [
        "Question-11 Write a program that checks if a number is positive, negative,or zero."
      ],
      "metadata": {
        "id": "wolLRP54ZnNG"
      }
    },
    {
      "cell_type": "code",
      "source": [
        "# Ask the user to enter a number\n",
        "number = float(input(\"Enter a number: \"))\n",
        "\n",
        "# Check if the number is positive, negative, or zero\n",
        "if number > 0:\n",
        "    print(\"The number is positive.\")\n",
        "elif number < 0:\n",
        "    print(\"The number is negative.\")\n",
        "else:\n",
        "    print(\"The number is zero.\")\n"
      ],
      "metadata": {
        "id": "eMg_qgGsZ5n4",
        "colab": {
          "base_uri": "https://localhost:8080/"
        },
        "outputId": "888099d8-32be-4afc-98b5-f69cfad3e72b"
      },
      "execution_count": 16,
      "outputs": [
        {
          "output_type": "stream",
          "name": "stdout",
          "text": [
            "Enter a number: 5\n",
            "The number is positive.\n"
          ]
        }
      ]
    },
    {
      "cell_type": "markdown",
      "source": [
        "Question-12 Write a for loop to print numbers from 1 to 10."
      ],
      "metadata": {
        "id": "s7oBicmKZ6IY"
      }
    },
    {
      "cell_type": "code",
      "source": [
        "# Using a for loop to print numbers from 1 to 10\n",
        "for number in range(1, 11):\n",
        "    print(number)\n"
      ],
      "metadata": {
        "id": "BrjWcZoqaEHo",
        "colab": {
          "base_uri": "https://localhost:8080/"
        },
        "outputId": "8d14c686-32e5-4795-d3ed-2395e59a1938"
      },
      "execution_count": 17,
      "outputs": [
        {
          "output_type": "stream",
          "name": "stdout",
          "text": [
            "1\n",
            "2\n",
            "3\n",
            "4\n",
            "5\n",
            "6\n",
            "7\n",
            "8\n",
            "9\n",
            "10\n"
          ]
        }
      ]
    },
    {
      "cell_type": "markdown",
      "source": [
        "Question-13 Write a Python program to find the sum of all even numbers between 1 and 50."
      ],
      "metadata": {
        "id": "AUn38iWWaEyT"
      }
    },
    {
      "cell_type": "code",
      "source": [
        "# Initialize the sum variable\n",
        "sum_of_even_numbers = 0\n",
        "\n",
        "# Iterate through the numbers from 1 to 50\n",
        "for number in range(1, 51):\n",
        "    if number % 2 == 0:  # Check if the number is even\n",
        "        sum_of_even_numbers += number  # Add the even number to the sum\n",
        "\n",
        "# Display the result\n",
        "print(\"The sum of all even numbers between 1 and 50 is:\", sum_of_even_numbers)\n"
      ],
      "metadata": {
        "id": "1DdZNWO8aTvc",
        "colab": {
          "base_uri": "https://localhost:8080/"
        },
        "outputId": "accb8139-7d8b-420a-f773-05bd0a76d50f"
      },
      "execution_count": 18,
      "outputs": [
        {
          "output_type": "stream",
          "name": "stdout",
          "text": [
            "The sum of all even numbers between 1 and 50 is: 650\n"
          ]
        }
      ]
    },
    {
      "cell_type": "markdown",
      "source": [
        "Question-14 Write a program to reverse a string while using while  loop ."
      ],
      "metadata": {
        "id": "eXIZrdOwaUP-"
      }
    },
    {
      "cell_type": "code",
      "source": [
        "# Ask the user to input a string\n",
        "input_string = input(\"Enter a string: \")\n",
        "\n",
        "# Initialize an empty string to store the reversed string\n",
        "reversed_string = \"\"\n",
        "\n",
        "# Set an index to the last character of the input string\n",
        "index = len(input_string) - 1\n",
        "\n",
        "# Use a while loop to reverse the string\n",
        "while index >= 0:\n",
        "    reversed_string += input_string[index]  # Add the character at the current index to the reversed string\n",
        "    index -= 1  # Move the index to the previous character\n",
        "\n",
        "# Display the reversed string\n",
        "print(\"Reversed string:\", reversed_string)\n"
      ],
      "metadata": {
        "id": "_oUujuAxaiZt",
        "colab": {
          "base_uri": "https://localhost:8080/"
        },
        "outputId": "b9f00608-e82b-4c3f-efdb-bd3a4d7fb5ba"
      },
      "execution_count": 20,
      "outputs": [
        {
          "output_type": "stream",
          "name": "stdout",
          "text": [
            "Enter a string: A\n",
            "Reversed string: A\n"
          ]
        }
      ]
    },
    {
      "cell_type": "markdown",
      "source": [
        "Question-15 Write a Python program to calculate the factorial of a number provided by the user while having a while loop."
      ],
      "metadata": {
        "id": "RK3uJULnajEz"
      }
    },
    {
      "cell_type": "code",
      "source": [
        "# Input: Get the number from the user\n",
        "num = int(input(\"Enter a positive integer to calculate its factorial: \"))\n",
        "\n",
        "# Initialize variables\n",
        "factorial = 1\n",
        "current = num\n",
        "\n",
        "# Validate input\n",
        "if num < 0:\n",
        "    print(\"Factorial is not defined for negative numbers.\")\n",
        "else:\n",
        "    # Calculate factorial using a while loop\n",
        "    while current > 0:\n",
        "        factorial *= current\n",
        "        current -= 1\n",
        "\n",
        "    # Output the result\n",
        "    print(f\"The factorial of {num} is: {factorial}\")\n"
      ],
      "metadata": {
        "id": "f0RyO6sWa0WQ",
        "colab": {
          "base_uri": "https://localhost:8080/"
        },
        "outputId": "ba0df2f2-d7fa-4f71-ce80-1a86f700100d"
      },
      "execution_count": 14,
      "outputs": [
        {
          "output_type": "stream",
          "name": "stdout",
          "text": [
            "Enter a positive integer to calculate its factorial: 5\n",
            "The factorial of 5 is: 120\n"
          ]
        }
      ]
    },
    {
      "cell_type": "code",
      "source": [],
      "metadata": {
        "id": "XNgosGTaWNOZ"
      },
      "execution_count": 14,
      "outputs": []
    }
  ]
}